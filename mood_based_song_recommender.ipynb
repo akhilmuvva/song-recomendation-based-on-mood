{
  "nbformat": 4,
  "nbformat_minor": 0,
  "metadata": {
    "colab": {
      "provenance": [],
      "authorship_tag": "ABX9TyPWK9h3MVnwmRJ9giiDLIOa",
      "include_colab_link": true
    },
    "kernelspec": {
      "name": "python3",
      "display_name": "Python 3"
    },
    "language_info": {
      "name": "python"
    }
  },
  "cells": [
    {
      "cell_type": "markdown",
      "metadata": {
        "id": "view-in-github",
        "colab_type": "text"
      },
      "source": [
        "<a href=\"https://colab.research.google.com/github/akhilmuvva/song-recomendation-based-on-mood/blob/main/mood_based_song_recommender.ipynb\" target=\"_parent\"><img src=\"https://colab.research.google.com/assets/colab-badge.svg\" alt=\"Open In Colab\"/></a>"
      ]
    },
    {
      "cell_type": "code",
      "execution_count": 2,
      "metadata": {
        "id": "v7uyvpUvyyNy"
      },
      "outputs": [],
      "source": [
        "from textblob import TextBlob\n",
        "import random"
      ]
    },
    {
      "cell_type": "code",
      "source": [
        "song_database = {\n",
        "    \"happy\": [\n",
        "        {\"title\": \"Happy\", \"artist\": \"Pharrell Williams\"},\n",
        "        {\"title\": \"Can't Stop the Feeling!\", \"artist\": \"Justin Timberlake\"},\n",
        "        {\"title\": \"Walking on Sunshine\", \"artist\": \"Katrina and the Waves\"}\n",
        "    ],\n",
        "    \"sad\": [\n",
        "        {\"title\": \"Someone Like You\", \"artist\": \"Adele\"},\n",
        "        {\"title\": \"Fix You\", \"artist\": \"Coldplay\"},\n",
        "        {\"title\": \"My Immortal\", \"artist\": \"Evanescence\"}\n",
        "    ],\n",
        "    \"chill\": [\n",
        "        {\"title\": \"Banana Pancakes\", \"artist\": \"Jack Johnson\"},\n",
        "        {\"title\": \"The Night We Met\", \"artist\": \"Lord Huron\"},\n",
        "        {\"title\": \"Riptide\", \"artist\": \"Vance Joy\"}\n",
        "    ],\n",
        "    \"angry\": [\n",
        "        {\"title\": \"Sweet but Psycho\", \"artist\": \"Ava Max\"},\n",
        "        {\"title\": \"Before I Forget\", \"artist\": \"Slipknot\"},\n",
        "        {\"title\": \"Break Stuff\", \"artist\": \"Limp Bizkit\"}\n",
        "    ]\n",
        "}"
      ],
      "metadata": {
        "id": "BKT648bBy6_c"
      },
      "execution_count": 3,
      "outputs": []
    },
    {
      "cell_type": "code",
      "source": [
        "def analyze_mood(text):\n",
        "\n",
        "    if not text.strip():\n",
        "        print(\"Empty input provided, defaulting to chill mood.\")\n",
        "        return \"chill\"\n",
        "\n",
        "    # Perform sentiment analysis with TextBlob\n",
        "    blob = TextBlob(text)\n",
        "    polarity = blob.sentiment.polarity\n",
        "\n",
        "    text_lower = text.lower()\n",
        "    if any(keyword in text_lower for keyword in [\"happy\", \"excited\", \"joyful\"]):\n",
        "        return \"happy\"\n",
        "    elif any(keyword in text_lower for keyword in [\"sad\", \"down\", \"depressed\"]):\n",
        "        return \"sad\"\n",
        "    elif any(keyword in text_lower for keyword in [\"chill\", \"relaxed\", \"calm\"]):\n",
        "        return \"chill\"\n",
        "    elif any(keyword in text_lower for keyword in [\"angry\", \"mad\", \"frustrated\"]):\n",
        "        return \"angry\"\n",
        "    else:\n",
        "        # Use polarity as fallback\n",
        "        if polarity > 0.2:\n",
        "            return \"happy\"\n",
        "        elif polarity < -0.2:\n",
        "            return \"sad\"\n",
        "        else:\n",
        "            return \"chill\"\n"
      ],
      "metadata": {
        "id": "CXzYPa41zmAC"
      },
      "execution_count": 4,
      "outputs": []
    },
    {
      "cell_type": "code",
      "source": [
        "def recommend_songs(mood, num_songs=3):\n",
        "\n",
        "    if mood in song_database and song_database[mood]:\n",
        "        return random.sample(song_database[mood], min(num_songs, len(song_database[mood])))\n",
        "    else:\n",
        "        return [{\"title\": \"No recommendations available\", \"artist\": \"\"}]"
      ],
      "metadata": {
        "id": "A0EJB_-yzu1x"
      },
      "execution_count": 5,
      "outputs": []
    },
    {
      "cell_type": "code",
      "source": [
        "def mood_based_song_recommender():\n",
        "    try:\n",
        "\n",
        "        user_input = input(\"Describe your mood (e.g., 'I'm super excited!' or 'Feeling down today.'): \")\n",
        "\n",
        "        detected_mood = analyze_mood(user_input)\n",
        "        print(f\"\\nDetected mood: {detected_mood.capitalize()}\")\n",
        "\n",
        "        recommendations = recommend_songs(detected_mood)\n",
        "\n",
        "        print(\"\\nRecommended Songs:\")\n",
        "        for i, song in enumerate(recommendations, 1):\n",
        "            print(f\"{i}. {song['title']} by {song['artist']}\")\n",
        "\n",
        "    except Exception as e:\n",
        "        print(f\"An error occurred: {e}\")\n",
        "        print(\"Please try again with a valid input.\")"
      ],
      "metadata": {
        "id": "bey0aB9-0DWw"
      },
      "execution_count": 6,
      "outputs": []
    },
    {
      "cell_type": "code",
      "source": [
        "if __name__ == \"__main__\":\n",
        "    mood_based_song_recommender()"
      ],
      "metadata": {
        "colab": {
          "base_uri": "https://localhost:8080/"
        },
        "id": "yfqpVOqY0Ifc",
        "outputId": "460b5fb3-51ae-43a7-8c50-4f34a93b8d0c"
      },
      "execution_count": 8,
      "outputs": [
        {
          "output_type": "stream",
          "name": "stdout",
          "text": [
            "Describe your mood (e.g., 'I'm super excited!' or 'Feeling down today.'): mad\n",
            "\n",
            "Detected mood: Angry\n",
            "\n",
            "Recommended Songs:\n",
            "1. Break Stuff by Limp Bizkit\n",
            "2. Sweet but Psycho by Ava Max\n",
            "3. Before I Forget by Slipknot\n"
          ]
        }
      ]
    }
  ]
}